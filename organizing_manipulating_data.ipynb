{
  "cells": [
    {
      "cell_type": "markdown",
      "metadata": {
        "id": "view-in-github",
        "colab_type": "text"
      },
      "source": [
        "<a href=\"https://colab.research.google.com/github/peterdelaguila/peterdelaguila/blob/main/organizing_manipulating_data.ipynb\" target=\"_parent\"><img src=\"https://colab.research.google.com/assets/colab-badge.svg\" alt=\"Open In Colab\"/></a>"
      ]
    },
    {
      "cell_type": "markdown",
      "id": "f438a8d8",
      "metadata": {
        "id": "f438a8d8"
      },
      "source": [
        "## Organizing and manipulating data in python"
      ]
    },
    {
      "cell_type": "code",
      "execution_count": null,
      "id": "2ee8ead3",
      "metadata": {
        "id": "2ee8ead3"
      },
      "outputs": [],
      "source": [
        "import os\n",
        "os.getcwd()\n",
        "os.chdir('C:\\\\Users\\\\PDELAGUILA\\\\Dropbox\\\\UNI\\\\XPEBIBA\\\\07 Business Analytics Advanced')"
      ]
    },
    {
      "cell_type": "code",
      "execution_count": null,
      "id": "1a5a9ec3",
      "metadata": {
        "id": "1a5a9ec3",
        "outputId": "b0bd73cd-74f6-4325-8ac5-70a0a8bc8143"
      },
      "outputs": [
        {
          "data": {
            "text/html": [
              "<div>\n",
              "<style scoped>\n",
              "    .dataframe tbody tr th:only-of-type {\n",
              "        vertical-align: middle;\n",
              "    }\n",
              "\n",
              "    .dataframe tbody tr th {\n",
              "        vertical-align: top;\n",
              "    }\n",
              "\n",
              "    .dataframe thead th {\n",
              "        text-align: right;\n",
              "    }\n",
              "</style>\n",
              "<table border=\"1\" class=\"dataframe\">\n",
              "  <thead>\n",
              "    <tr style=\"text-align: right;\">\n",
              "      <th></th>\n",
              "      <th>A</th>\n",
              "      <th>B</th>\n",
              "      <th>C</th>\n",
              "    </tr>\n",
              "  </thead>\n",
              "  <tbody>\n",
              "    <tr>\n",
              "      <th>0</th>\n",
              "      <td>0</td>\n",
              "      <td>1</td>\n",
              "      <td>1</td>\n",
              "    </tr>\n",
              "    <tr>\n",
              "      <th>1</th>\n",
              "      <td>1</td>\n",
              "      <td>0</td>\n",
              "      <td>0</td>\n",
              "    </tr>\n",
              "    <tr>\n",
              "      <th>2</th>\n",
              "      <td>0</td>\n",
              "      <td>1</td>\n",
              "      <td>0</td>\n",
              "    </tr>\n",
              "  </tbody>\n",
              "</table>\n",
              "</div>"
            ],
            "text/plain": [
              "   A  B  C\n",
              "0  0  1  1\n",
              "1  1  0  0\n",
              "2  0  1  0"
            ]
          },
          "execution_count": 7,
          "metadata": {},
          "output_type": "execute_result"
        }
      ],
      "source": [
        "import pandas as pd\n",
        "d = {'A': [0, 1, 0],\n",
        "     'B': [1, 0, 1],\n",
        "     'C': [1, 0, 0]}\n",
        "pd.DataFrame(d)"
      ]
    },
    {
      "cell_type": "code",
      "execution_count": null,
      "id": "58a7741e",
      "metadata": {
        "id": "58a7741e",
        "outputId": "3208eb9d-ba60-412b-8c50-834993389bae"
      },
      "outputs": [
        {
          "data": {
            "text/html": [
              "<div>\n",
              "<style scoped>\n",
              "    .dataframe tbody tr th:only-of-type {\n",
              "        vertical-align: middle;\n",
              "    }\n",
              "\n",
              "    .dataframe tbody tr th {\n",
              "        vertical-align: top;\n",
              "    }\n",
              "\n",
              "    .dataframe thead th {\n",
              "        text-align: right;\n",
              "    }\n",
              "</style>\n",
              "<table border=\"1\" class=\"dataframe\">\n",
              "  <thead>\n",
              "    <tr style=\"text-align: right;\">\n",
              "      <th></th>\n",
              "      <th>Unnamed: 0</th>\n",
              "      <th>A</th>\n",
              "      <th>AS</th>\n",
              "      <th>B</th>\n",
              "      <th>D</th>\n",
              "      <th>H</th>\n",
              "      <th>M</th>\n",
              "      <th>P</th>\n",
              "      <th>S</th>\n",
              "    </tr>\n",
              "  </thead>\n",
              "  <tbody>\n",
              "    <tr>\n",
              "      <th>0</th>\n",
              "      <td>A</td>\n",
              "      <td>0</td>\n",
              "      <td>1328</td>\n",
              "      <td>1600</td>\n",
              "      <td>2616</td>\n",
              "      <td>1161</td>\n",
              "      <td>653</td>\n",
              "      <td>2130</td>\n",
              "      <td>1161</td>\n",
              "    </tr>\n",
              "    <tr>\n",
              "      <th>1</th>\n",
              "      <td>AS</td>\n",
              "      <td>1328</td>\n",
              "      <td>0</td>\n",
              "      <td>1962</td>\n",
              "      <td>1289</td>\n",
              "      <td>2463</td>\n",
              "      <td>1889</td>\n",
              "      <td>1991</td>\n",
              "      <td>2026</td>\n",
              "    </tr>\n",
              "  </tbody>\n",
              "</table>\n",
              "</div>"
            ],
            "text/plain": [
              "  Unnamed: 0     A    AS     B     D     H     M     P     S\n",
              "0          A     0  1328  1600  2616  1161   653  2130  1161\n",
              "1         AS  1328     0  1962  1289  2463  1889  1991  2026"
            ]
          },
          "execution_count": 11,
          "metadata": {},
          "output_type": "execute_result"
        }
      ],
      "source": [
        "dp = pd.read_csv(\"C:\\\\Users\\\\PDELAGUILA\\\\Dropbox\\\\UNI\\\\XPEBIBA\\\\07 Business Analytics Advanced\\\\dist-Aus.csv\") \n",
        "dp.head(2)"
      ]
    },
    {
      "cell_type": "code",
      "execution_count": null,
      "id": "3721652f",
      "metadata": {
        "id": "3721652f",
        "outputId": "a1d52771-806c-465c-e778-b688da040c66"
      },
      "outputs": [
        {
          "name": "stdout",
          "output_type": "stream",
          "text": [
            "<class 'pandas.core.frame.DataFrame'>\n",
            "RangeIndex: 8 entries, 0 to 7\n",
            "Data columns (total 9 columns):\n",
            " #   Column      Non-Null Count  Dtype \n",
            "---  ------      --------------  ----- \n",
            " 0   Unnamed: 0  8 non-null      object\n",
            " 1   A           8 non-null      int64 \n",
            " 2   AS          8 non-null      int64 \n",
            " 3   B           8 non-null      int64 \n",
            " 4   D           8 non-null      int64 \n",
            " 5   H           8 non-null      int64 \n",
            " 6   M           8 non-null      int64 \n",
            " 7   P           8 non-null      int64 \n",
            " 8   S           8 non-null      int64 \n",
            "dtypes: int64(8), object(1)\n",
            "memory usage: 704.0+ bytes\n"
          ]
        }
      ],
      "source": [
        "dp.info()"
      ]
    },
    {
      "cell_type": "code",
      "execution_count": null,
      "id": "785f51a7",
      "metadata": {
        "id": "785f51a7",
        "outputId": "773e951f-d3b2-407c-f150-8694e9e320ac"
      },
      "outputs": [
        {
          "data": {
            "text/html": [
              "<div>\n",
              "<style scoped>\n",
              "    .dataframe tbody tr th:only-of-type {\n",
              "        vertical-align: middle;\n",
              "    }\n",
              "\n",
              "    .dataframe tbody tr th {\n",
              "        vertical-align: top;\n",
              "    }\n",
              "\n",
              "    .dataframe thead th {\n",
              "        text-align: right;\n",
              "    }\n",
              "</style>\n",
              "<table border=\"1\" class=\"dataframe\">\n",
              "  <thead>\n",
              "    <tr style=\"text-align: right;\">\n",
              "      <th></th>\n",
              "      <th>id</th>\n",
              "      <th>timestamp</th>\n",
              "    </tr>\n",
              "  </thead>\n",
              "  <tbody>\n",
              "    <tr>\n",
              "      <th>0</th>\n",
              "      <td>7031047350</td>\n",
              "      <td>2020-04-08 01:04:00</td>\n",
              "    </tr>\n",
              "    <tr>\n",
              "      <th>1</th>\n",
              "      <td>7031047340</td>\n",
              "      <td>2020-04-08 01:04:00</td>\n",
              "    </tr>\n",
              "    <tr>\n",
              "      <th>2</th>\n",
              "      <td>7031047338</td>\n",
              "      <td>2020-04-08 01:04:00</td>\n",
              "    </tr>\n",
              "    <tr>\n",
              "      <th>3</th>\n",
              "      <td>7031047336</td>\n",
              "      <td>2020-04-08 01:04:00</td>\n",
              "    </tr>\n",
              "    <tr>\n",
              "      <th>4</th>\n",
              "      <td>7031047335</td>\n",
              "      <td>2020-04-08 01:04:00</td>\n",
              "    </tr>\n",
              "  </tbody>\n",
              "</table>\n",
              "</div>"
            ],
            "text/plain": [
              "           id           timestamp\n",
              "0  7031047350 2020-04-08 01:04:00\n",
              "1  7031047340 2020-04-08 01:04:00\n",
              "2  7031047338 2020-04-08 01:04:00\n",
              "3  7031047336 2020-04-08 01:04:00\n",
              "4  7031047335 2020-04-08 01:04:00"
            ]
          },
          "execution_count": 16,
          "metadata": {},
          "output_type": "execute_result"
        }
      ],
      "source": [
        "dp = pd.read_json(\"C:\\\\Users\\\\PDELAGUILA\\\\Dropbox\\\\UNI\\\\XPEBIBA\\\\07 Business Analytics Advanced\\\\data.json\") \n",
        "dp[['id','timestamp']].head()"
      ]
    },
    {
      "cell_type": "code",
      "execution_count": null,
      "id": "c76359f4",
      "metadata": {
        "id": "c76359f4",
        "outputId": "3928e98a-226a-4bde-a27f-2c98ec8f54df"
      },
      "outputs": [
        {
          "data": {
            "text/plain": [
              "Index(['id', 'sampling_rate', 'timestamp', 'location', 'sensor',\n",
              "       'sensordatavalues'],\n",
              "      dtype='object')"
            ]
          },
          "execution_count": 17,
          "metadata": {},
          "output_type": "execute_result"
        }
      ],
      "source": [
        "dp.columns"
      ]
    },
    {
      "cell_type": "code",
      "execution_count": null,
      "id": "2ccd08c4",
      "metadata": {
        "id": "2ccd08c4",
        "outputId": "d50c024a-89ae-422c-a7b4-b1898589552c"
      },
      "outputs": [
        {
          "name": "stdout",
          "output_type": "stream",
          "text": [
            "<class 'pandas.core.frame.DataFrame'>\n",
            "RangeIndex: 14118 entries, 0 to 14117\n",
            "Data columns (total 6 columns):\n",
            " #   Column            Non-Null Count  Dtype         \n",
            "---  ------            --------------  -----         \n",
            " 0   id                14118 non-null  int64         \n",
            " 1   sampling_rate     0 non-null      float64       \n",
            " 2   timestamp         14118 non-null  datetime64[ns]\n",
            " 3   location          14118 non-null  object        \n",
            " 4   sensor            14118 non-null  object        \n",
            " 5   sensordatavalues  14118 non-null  object        \n",
            "dtypes: datetime64[ns](1), float64(1), int64(1), object(3)\n",
            "memory usage: 661.9+ KB\n"
          ]
        }
      ],
      "source": [
        "dp.info()"
      ]
    },
    {
      "cell_type": "code",
      "execution_count": null,
      "id": "3c82a508",
      "metadata": {
        "id": "3c82a508",
        "outputId": "01cc97f8-c6f6-4125-9010-5246092f63be"
      },
      "outputs": [
        {
          "data": {
            "text/plain": [
              "id                           int64\n",
              "sampling_rate              float64\n",
              "timestamp           datetime64[ns]\n",
              "location                    object\n",
              "sensor                      object\n",
              "sensordatavalues            object\n",
              "dtype: object"
            ]
          },
          "execution_count": 19,
          "metadata": {},
          "output_type": "execute_result"
        }
      ],
      "source": [
        "dp.dtypes"
      ]
    },
    {
      "cell_type": "code",
      "execution_count": null,
      "id": "2b65ca49",
      "metadata": {
        "id": "2b65ca49",
        "outputId": "08329c9d-dd56-492d-a054-cf8a3ade2ee9"
      },
      "outputs": [
        {
          "data": {
            "text/html": [
              "<div>\n",
              "<style scoped>\n",
              "    .dataframe tbody tr th:only-of-type {\n",
              "        vertical-align: middle;\n",
              "    }\n",
              "\n",
              "    .dataframe tbody tr th {\n",
              "        vertical-align: top;\n",
              "    }\n",
              "\n",
              "    .dataframe thead th {\n",
              "        text-align: right;\n",
              "    }\n",
              "</style>\n",
              "<table border=\"1\" class=\"dataframe\">\n",
              "  <thead>\n",
              "    <tr style=\"text-align: right;\">\n",
              "      <th></th>\n",
              "      <th>A</th>\n",
              "      <th>B</th>\n",
              "      <th>C</th>\n",
              "    </tr>\n",
              "  </thead>\n",
              "  <tbody>\n",
              "    <tr>\n",
              "      <th>0</th>\n",
              "      <td>male</td>\n",
              "      <td>1</td>\n",
              "      <td>-99.0</td>\n",
              "    </tr>\n",
              "    <tr>\n",
              "      <th>1</th>\n",
              "      <td>female</td>\n",
              "      <td>2</td>\n",
              "      <td>3.0</td>\n",
              "    </tr>\n",
              "    <tr>\n",
              "      <th>2</th>\n",
              "      <td>male</td>\n",
              "      <td>3</td>\n",
              "      <td>4.0</td>\n",
              "    </tr>\n",
              "  </tbody>\n",
              "</table>\n",
              "</div>"
            ],
            "text/plain": [
              "        A  B     C\n",
              "0    male  1 -99.0\n",
              "1  female  2   3.0\n",
              "2    male  3   4.0"
            ]
          },
          "execution_count": 26,
          "metadata": {},
          "output_type": "execute_result"
        }
      ],
      "source": [
        "my_list=[['male',1,None],['female',2,3],['male',3,4]]\n",
        "dp=pd.DataFrame(my_list,columns=['A','B','C'])\n",
        "dp=dp.fillna(-99)\n",
        "dp"
      ]
    },
    {
      "cell_type": "code",
      "execution_count": null,
      "id": "9513e7e5",
      "metadata": {
        "id": "9513e7e5",
        "outputId": "aded8bf4-ee97-4a45-d1e4-1821cddaf8c6"
      },
      "outputs": [
        {
          "data": {
            "text/html": [
              "<div>\n",
              "<style scoped>\n",
              "    .dataframe tbody tr th:only-of-type {\n",
              "        vertical-align: middle;\n",
              "    }\n",
              "\n",
              "    .dataframe tbody tr th {\n",
              "        vertical-align: top;\n",
              "    }\n",
              "\n",
              "    .dataframe thead th {\n",
              "        text-align: right;\n",
              "    }\n",
              "</style>\n",
              "<table border=\"1\" class=\"dataframe\">\n",
              "  <thead>\n",
              "    <tr style=\"text-align: right;\">\n",
              "      <th></th>\n",
              "      <th>A</th>\n",
              "      <th>B</th>\n",
              "      <th>C</th>\n",
              "    </tr>\n",
              "  </thead>\n",
              "  <tbody>\n",
              "    <tr>\n",
              "      <th>0</th>\n",
              "      <td>1</td>\n",
              "      <td>1</td>\n",
              "      <td>-99.0</td>\n",
              "    </tr>\n",
              "    <tr>\n",
              "      <th>1</th>\n",
              "      <td>0</td>\n",
              "      <td>2</td>\n",
              "      <td>3.0</td>\n",
              "    </tr>\n",
              "    <tr>\n",
              "      <th>2</th>\n",
              "      <td>1</td>\n",
              "      <td>3</td>\n",
              "      <td>4.0</td>\n",
              "    </tr>\n",
              "  </tbody>\n",
              "</table>\n",
              "</div>"
            ],
            "text/plain": [
              "   A  B     C\n",
              "0  1  1 -99.0\n",
              "1  0  2   3.0\n",
              "2  1  3   4.0"
            ]
          },
          "execution_count": 27,
          "metadata": {},
          "output_type": "execute_result"
        }
      ],
      "source": [
        "dp.A.replace(['male','female'],['1','0'],inplace=True)\n",
        "dp"
      ]
    },
    {
      "cell_type": "code",
      "execution_count": null,
      "id": "0208573e",
      "metadata": {
        "id": "0208573e",
        "outputId": "d4cb66e8-a54a-4636-f290-062ef6d51381"
      },
      "outputs": [
        {
          "data": {
            "text/html": [
              "<div>\n",
              "<style scoped>\n",
              "    .dataframe tbody tr th:only-of-type {\n",
              "        vertical-align: middle;\n",
              "    }\n",
              "\n",
              "    .dataframe tbody tr th {\n",
              "        vertical-align: top;\n",
              "    }\n",
              "\n",
              "    .dataframe thead th {\n",
              "        text-align: right;\n",
              "    }\n",
              "</style>\n",
              "<table border=\"1\" class=\"dataframe\">\n",
              "  <thead>\n",
              "    <tr style=\"text-align: right;\">\n",
              "      <th></th>\n",
              "      <th>a</th>\n",
              "      <th>b</th>\n",
              "      <th>c</th>\n",
              "    </tr>\n",
              "  </thead>\n",
              "  <tbody>\n",
              "    <tr>\n",
              "      <th>0</th>\n",
              "      <td>1</td>\n",
              "      <td>1</td>\n",
              "      <td>-99.0</td>\n",
              "    </tr>\n",
              "    <tr>\n",
              "      <th>1</th>\n",
              "      <td>0</td>\n",
              "      <td>2</td>\n",
              "      <td>3.0</td>\n",
              "    </tr>\n",
              "    <tr>\n",
              "      <th>2</th>\n",
              "      <td>1</td>\n",
              "      <td>3</td>\n",
              "      <td>4.0</td>\n",
              "    </tr>\n",
              "  </tbody>\n",
              "</table>\n",
              "</div>"
            ],
            "text/plain": [
              "   a  b     c\n",
              "0  1  1 -99.0\n",
              "1  0  2   3.0\n",
              "2  1  3   4.0"
            ]
          },
          "execution_count": 28,
          "metadata": {},
          "output_type": "execute_result"
        }
      ],
      "source": [
        "dp.columns=['a','b','c']\n",
        "dp"
      ]
    },
    {
      "cell_type": "code",
      "execution_count": null,
      "id": "0929d857",
      "metadata": {
        "id": "0929d857",
        "outputId": "8b5f5832-a2e8-492f-c5b6-479ddbef2283"
      },
      "outputs": [
        {
          "data": {
            "text/html": [
              "<div>\n",
              "<style scoped>\n",
              "    .dataframe tbody tr th:only-of-type {\n",
              "        vertical-align: middle;\n",
              "    }\n",
              "\n",
              "    .dataframe tbody tr th {\n",
              "        vertical-align: top;\n",
              "    }\n",
              "\n",
              "    .dataframe thead th {\n",
              "        text-align: right;\n",
              "    }\n",
              "</style>\n",
              "<table border=\"1\" class=\"dataframe\">\n",
              "  <thead>\n",
              "    <tr style=\"text-align: right;\">\n",
              "      <th></th>\n",
              "      <th>Sexo</th>\n",
              "      <th>Nro</th>\n",
              "      <th>c</th>\n",
              "    </tr>\n",
              "  </thead>\n",
              "  <tbody>\n",
              "    <tr>\n",
              "      <th>0</th>\n",
              "      <td>1</td>\n",
              "      <td>1</td>\n",
              "      <td>-99.0</td>\n",
              "    </tr>\n",
              "  </tbody>\n",
              "</table>\n",
              "</div>"
            ],
            "text/plain": [
              "  Sexo  Nro     c\n",
              "0    1    1 -99.0"
            ]
          },
          "execution_count": 31,
          "metadata": {},
          "output_type": "execute_result"
        }
      ],
      "source": [
        "mapping={'a':'Sexo','b':'Nro'}\n",
        "dp.rename(columns=mapping).head(1)"
      ]
    },
    {
      "cell_type": "code",
      "execution_count": null,
      "id": "5639f022",
      "metadata": {
        "id": "5639f022"
      },
      "outputs": [],
      "source": [
        "my_list=[[230.1,37.8,69.2,22.1],[44.5,39.3,45.1,10.4],[17.2,45.9,69.3,9.3],[151.5,41.3,58.5,18.5]]\n",
        "my_list\n",
        "col_name=['TV','Radio','Newspaper','Sales']\n",
        "dp=pd.DataFrame(my_list,columns=col_name)\n"
      ]
    },
    {
      "cell_type": "code",
      "execution_count": null,
      "id": "2b800216",
      "metadata": {
        "id": "2b800216",
        "outputId": "c4b7a357-07cc-4fbe-efbe-cb4c29eb30fb"
      },
      "outputs": [
        {
          "data": {
            "text/html": [
              "<div>\n",
              "<style scoped>\n",
              "    .dataframe tbody tr th:only-of-type {\n",
              "        vertical-align: middle;\n",
              "    }\n",
              "\n",
              "    .dataframe tbody tr th {\n",
              "        vertical-align: top;\n",
              "    }\n",
              "\n",
              "    .dataframe thead th {\n",
              "        text-align: right;\n",
              "    }\n",
              "</style>\n",
              "<table border=\"1\" class=\"dataframe\">\n",
              "  <thead>\n",
              "    <tr style=\"text-align: right;\">\n",
              "      <th></th>\n",
              "      <th>TV</th>\n",
              "      <th>Radio</th>\n",
              "    </tr>\n",
              "  </thead>\n",
              "  <tbody>\n",
              "    <tr>\n",
              "      <th>0</th>\n",
              "      <td>230.1</td>\n",
              "      <td>37.8</td>\n",
              "    </tr>\n",
              "    <tr>\n",
              "      <th>1</th>\n",
              "      <td>44.5</td>\n",
              "      <td>39.3</td>\n",
              "    </tr>\n",
              "    <tr>\n",
              "      <th>2</th>\n",
              "      <td>17.2</td>\n",
              "      <td>45.9</td>\n",
              "    </tr>\n",
              "    <tr>\n",
              "      <th>3</th>\n",
              "      <td>151.5</td>\n",
              "      <td>41.3</td>\n",
              "    </tr>\n",
              "  </tbody>\n",
              "</table>\n",
              "</div>"
            ],
            "text/plain": [
              "      TV  Radio\n",
              "0  230.1   37.8\n",
              "1   44.5   39.3\n",
              "2   17.2   45.9\n",
              "3  151.5   41.3"
            ]
          },
          "execution_count": 41,
          "metadata": {},
          "output_type": "execute_result"
        }
      ],
      "source": [
        "drop_name=['Newspaper','Sales']\n",
        "dp=dp.drop(drop_name,axis=1)\n",
        "dp"
      ]
    },
    {
      "cell_type": "code",
      "execution_count": null,
      "id": "946f5863",
      "metadata": {
        "id": "946f5863",
        "outputId": "be91b239-d7a1-4bef-e5a3-ec82a8202e53"
      },
      "outputs": [
        {
          "data": {
            "text/html": [
              "<div>\n",
              "<style scoped>\n",
              "    .dataframe tbody tr th:only-of-type {\n",
              "        vertical-align: middle;\n",
              "    }\n",
              "\n",
              "    .dataframe tbody tr th {\n",
              "        vertical-align: top;\n",
              "    }\n",
              "\n",
              "    .dataframe thead th {\n",
              "        text-align: right;\n",
              "    }\n",
              "</style>\n",
              "<table border=\"1\" class=\"dataframe\">\n",
              "  <thead>\n",
              "    <tr style=\"text-align: right;\">\n",
              "      <th></th>\n",
              "      <th>TV</th>\n",
              "      <th>Radio</th>\n",
              "      <th>Newspaper</th>\n",
              "      <th>Sales</th>\n",
              "    </tr>\n",
              "  </thead>\n",
              "  <tbody>\n",
              "    <tr>\n",
              "      <th>0</th>\n",
              "      <td>230.1</td>\n",
              "      <td>37.8</td>\n",
              "      <td>69.2</td>\n",
              "      <td>22.1</td>\n",
              "    </tr>\n",
              "    <tr>\n",
              "      <th>1</th>\n",
              "      <td>44.5</td>\n",
              "      <td>39.3</td>\n",
              "      <td>45.1</td>\n",
              "      <td>10.4</td>\n",
              "    </tr>\n",
              "    <tr>\n",
              "      <th>2</th>\n",
              "      <td>17.2</td>\n",
              "      <td>45.9</td>\n",
              "      <td>69.3</td>\n",
              "      <td>9.3</td>\n",
              "    </tr>\n",
              "    <tr>\n",
              "      <th>3</th>\n",
              "      <td>151.5</td>\n",
              "      <td>41.3</td>\n",
              "      <td>58.5</td>\n",
              "      <td>18.5</td>\n",
              "    </tr>\n",
              "  </tbody>\n",
              "</table>\n",
              "</div>"
            ],
            "text/plain": [
              "      TV  Radio  Newspaper  Sales\n",
              "0  230.1   37.8       69.2   22.1\n",
              "1   44.5   39.3       45.1   10.4\n",
              "2   17.2   45.9       69.3    9.3\n",
              "3  151.5   41.3       58.5   18.5"
            ]
          },
          "execution_count": 43,
          "metadata": {},
          "output_type": "execute_result"
        }
      ],
      "source": [
        "dp"
      ]
    },
    {
      "cell_type": "markdown",
      "id": "ec9efc13",
      "metadata": {
        "id": "ec9efc13"
      },
      "source": [
        "* Filtros"
      ]
    },
    {
      "cell_type": "code",
      "execution_count": null,
      "id": "5999f9a3",
      "metadata": {
        "id": "5999f9a3",
        "outputId": "d347ac20-d26d-47ff-d43f-cda2c2ffeea3"
      },
      "outputs": [
        {
          "data": {
            "text/html": [
              "<div>\n",
              "<style scoped>\n",
              "    .dataframe tbody tr th:only-of-type {\n",
              "        vertical-align: middle;\n",
              "    }\n",
              "\n",
              "    .dataframe tbody tr th {\n",
              "        vertical-align: top;\n",
              "    }\n",
              "\n",
              "    .dataframe thead th {\n",
              "        text-align: right;\n",
              "    }\n",
              "</style>\n",
              "<table border=\"1\" class=\"dataframe\">\n",
              "  <thead>\n",
              "    <tr style=\"text-align: right;\">\n",
              "      <th></th>\n",
              "      <th>TV</th>\n",
              "      <th>Radio</th>\n",
              "      <th>Newspaper</th>\n",
              "      <th>Sales</th>\n",
              "    </tr>\n",
              "  </thead>\n",
              "  <tbody>\n",
              "    <tr>\n",
              "      <th>1</th>\n",
              "      <td>44.5</td>\n",
              "      <td>39.3</td>\n",
              "      <td>45.1</td>\n",
              "      <td>10.4</td>\n",
              "    </tr>\n",
              "  </tbody>\n",
              "</table>\n",
              "</div>"
            ],
            "text/plain": [
              "     TV  Radio  Newspaper  Sales\n",
              "1  44.5   39.3       45.1   10.4"
            ]
          },
          "execution_count": 46,
          "metadata": {},
          "output_type": "execute_result"
        }
      ],
      "source": [
        "Base=dp[dp.Newspaper<50]\n",
        "Base"
      ]
    },
    {
      "cell_type": "code",
      "execution_count": null,
      "id": "fdf79f86",
      "metadata": {
        "id": "fdf79f86",
        "outputId": "e2cf31a9-e708-4687-a267-a4951a3078c6"
      },
      "outputs": [
        {
          "data": {
            "text/html": [
              "<div>\n",
              "<style scoped>\n",
              "    .dataframe tbody tr th:only-of-type {\n",
              "        vertical-align: middle;\n",
              "    }\n",
              "\n",
              "    .dataframe tbody tr th {\n",
              "        vertical-align: top;\n",
              "    }\n",
              "\n",
              "    .dataframe thead th {\n",
              "        text-align: right;\n",
              "    }\n",
              "</style>\n",
              "<table border=\"1\" class=\"dataframe\">\n",
              "  <thead>\n",
              "    <tr style=\"text-align: right;\">\n",
              "      <th></th>\n",
              "      <th>TV</th>\n",
              "      <th>Radio</th>\n",
              "      <th>Newspaper</th>\n",
              "      <th>Sales</th>\n",
              "    </tr>\n",
              "  </thead>\n",
              "  <tbody>\n",
              "    <tr>\n",
              "      <th>3</th>\n",
              "      <td>151.5</td>\n",
              "      <td>41.3</td>\n",
              "      <td>58.5</td>\n",
              "      <td>18.5</td>\n",
              "    </tr>\n",
              "  </tbody>\n",
              "</table>\n",
              "</div>"
            ],
            "text/plain": [
              "      TV  Radio  Newspaper  Sales\n",
              "3  151.5   41.3       58.5   18.5"
            ]
          },
          "execution_count": 47,
          "metadata": {},
          "output_type": "execute_result"
        }
      ],
      "source": [
        "dp[(dp.Newspaper<60)&(dp.TV>100)]"
      ]
    },
    {
      "cell_type": "code",
      "execution_count": null,
      "id": "7e1d3588",
      "metadata": {
        "id": "7e1d3588",
        "outputId": "40572d6e-958b-467e-b90f-19c655d5fa82"
      },
      "outputs": [
        {
          "data": {
            "text/html": [
              "<div>\n",
              "<style scoped>\n",
              "    .dataframe tbody tr th:only-of-type {\n",
              "        vertical-align: middle;\n",
              "    }\n",
              "\n",
              "    .dataframe tbody tr th {\n",
              "        vertical-align: top;\n",
              "    }\n",
              "\n",
              "    .dataframe thead th {\n",
              "        text-align: right;\n",
              "    }\n",
              "</style>\n",
              "<table border=\"1\" class=\"dataframe\">\n",
              "  <thead>\n",
              "    <tr style=\"text-align: right;\">\n",
              "      <th></th>\n",
              "      <th>TV</th>\n",
              "      <th>Radio</th>\n",
              "      <th>Newspaper</th>\n",
              "      <th>Sales</th>\n",
              "      <th>Part_Tv</th>\n",
              "    </tr>\n",
              "  </thead>\n",
              "  <tbody>\n",
              "    <tr>\n",
              "      <th>0</th>\n",
              "      <td>230.1</td>\n",
              "      <td>37.8</td>\n",
              "      <td>69.2</td>\n",
              "      <td>22.1</td>\n",
              "      <td>0.519062</td>\n",
              "    </tr>\n",
              "    <tr>\n",
              "      <th>1</th>\n",
              "      <td>44.5</td>\n",
              "      <td>39.3</td>\n",
              "      <td>45.1</td>\n",
              "      <td>10.4</td>\n",
              "      <td>0.100383</td>\n",
              "    </tr>\n",
              "    <tr>\n",
              "      <th>2</th>\n",
              "      <td>17.2</td>\n",
              "      <td>45.9</td>\n",
              "      <td>69.3</td>\n",
              "      <td>9.3</td>\n",
              "      <td>0.038800</td>\n",
              "    </tr>\n",
              "    <tr>\n",
              "      <th>3</th>\n",
              "      <td>151.5</td>\n",
              "      <td>41.3</td>\n",
              "      <td>58.5</td>\n",
              "      <td>18.5</td>\n",
              "      <td>0.341755</td>\n",
              "    </tr>\n",
              "  </tbody>\n",
              "</table>\n",
              "</div>"
            ],
            "text/plain": [
              "      TV  Radio  Newspaper  Sales   Part_Tv\n",
              "0  230.1   37.8       69.2   22.1  0.519062\n",
              "1   44.5   39.3       45.1   10.4  0.100383\n",
              "2   17.2   45.9       69.3    9.3  0.038800\n",
              "3  151.5   41.3       58.5   18.5  0.341755"
            ]
          },
          "execution_count": 48,
          "metadata": {},
          "output_type": "execute_result"
        }
      ],
      "source": [
        "dp['Part_Tv']=dp.TV/sum(dp.TV)\n",
        "dp"
      ]
    },
    {
      "cell_type": "code",
      "execution_count": null,
      "id": "63b34f59",
      "metadata": {
        "id": "63b34f59",
        "outputId": "e2be70b4-cf05-461c-ede2-531624d0b1da"
      },
      "outputs": [
        {
          "data": {
            "text/html": [
              "<div>\n",
              "<style scoped>\n",
              "    .dataframe tbody tr th:only-of-type {\n",
              "        vertical-align: middle;\n",
              "    }\n",
              "\n",
              "    .dataframe tbody tr th {\n",
              "        vertical-align: top;\n",
              "    }\n",
              "\n",
              "    .dataframe thead th {\n",
              "        text-align: right;\n",
              "    }\n",
              "</style>\n",
              "<table border=\"1\" class=\"dataframe\">\n",
              "  <thead>\n",
              "    <tr style=\"text-align: right;\">\n",
              "      <th></th>\n",
              "      <th>TV</th>\n",
              "      <th>Radio</th>\n",
              "      <th>Newspaper</th>\n",
              "      <th>Sales</th>\n",
              "      <th>Part_Tv</th>\n",
              "      <th>cond</th>\n",
              "    </tr>\n",
              "  </thead>\n",
              "  <tbody>\n",
              "    <tr>\n",
              "      <th>0</th>\n",
              "      <td>230.1</td>\n",
              "      <td>37.8</td>\n",
              "      <td>69.2</td>\n",
              "      <td>22.1</td>\n",
              "      <td>0.519062</td>\n",
              "      <td>1</td>\n",
              "    </tr>\n",
              "    <tr>\n",
              "      <th>1</th>\n",
              "      <td>44.5</td>\n",
              "      <td>39.3</td>\n",
              "      <td>45.1</td>\n",
              "      <td>10.4</td>\n",
              "      <td>0.100383</td>\n",
              "      <td>2</td>\n",
              "    </tr>\n",
              "    <tr>\n",
              "      <th>2</th>\n",
              "      <td>17.2</td>\n",
              "      <td>45.9</td>\n",
              "      <td>69.3</td>\n",
              "      <td>9.3</td>\n",
              "      <td>0.038800</td>\n",
              "      <td>3</td>\n",
              "    </tr>\n",
              "    <tr>\n",
              "      <th>3</th>\n",
              "      <td>151.5</td>\n",
              "      <td>41.3</td>\n",
              "      <td>58.5</td>\n",
              "      <td>18.5</td>\n",
              "      <td>0.341755</td>\n",
              "      <td>1</td>\n",
              "    </tr>\n",
              "  </tbody>\n",
              "</table>\n",
              "</div>"
            ],
            "text/plain": [
              "      TV  Radio  Newspaper  Sales   Part_Tv  cond\n",
              "0  230.1   37.8       69.2   22.1  0.519062     1\n",
              "1   44.5   39.3       45.1   10.4  0.100383     2\n",
              "2   17.2   45.9       69.3    9.3  0.038800     3\n",
              "3  151.5   41.3       58.5   18.5  0.341755     1"
            ]
          },
          "execution_count": 49,
          "metadata": {},
          "output_type": "execute_result"
        }
      ],
      "source": [
        "dp['cond']=dp.apply(lambda c: 1 if((c.TV>100)&(c.Radio<50)) else 2 if c.Sales>10 else 3,axis=1)\n",
        "dp"
      ]
    },
    {
      "cell_type": "code",
      "execution_count": null,
      "id": "afe3f374",
      "metadata": {
        "id": "afe3f374",
        "outputId": "885413ed-a233-4903-81a1-4303091013f8"
      },
      "outputs": [
        {
          "data": {
            "text/html": [
              "<div>\n",
              "<style scoped>\n",
              "    .dataframe tbody tr th:only-of-type {\n",
              "        vertical-align: middle;\n",
              "    }\n",
              "\n",
              "    .dataframe tbody tr th {\n",
              "        vertical-align: top;\n",
              "    }\n",
              "\n",
              "    .dataframe thead th {\n",
              "        text-align: right;\n",
              "    }\n",
              "</style>\n",
              "<table border=\"1\" class=\"dataframe\">\n",
              "  <thead>\n",
              "    <tr style=\"text-align: right;\">\n",
              "      <th></th>\n",
              "      <th>TV</th>\n",
              "      <th>Radio</th>\n",
              "      <th>Newspaper</th>\n",
              "      <th>Sales</th>\n",
              "      <th>Part_Tv</th>\n",
              "      <th>cond</th>\n",
              "      <th>logTV</th>\n",
              "    </tr>\n",
              "  </thead>\n",
              "  <tbody>\n",
              "    <tr>\n",
              "      <th>0</th>\n",
              "      <td>230.1</td>\n",
              "      <td>37.8</td>\n",
              "      <td>69.2</td>\n",
              "      <td>22.1</td>\n",
              "      <td>0.519062</td>\n",
              "      <td>1</td>\n",
              "      <td>5.438514</td>\n",
              "    </tr>\n",
              "    <tr>\n",
              "      <th>1</th>\n",
              "      <td>44.5</td>\n",
              "      <td>39.3</td>\n",
              "      <td>45.1</td>\n",
              "      <td>10.4</td>\n",
              "      <td>0.100383</td>\n",
              "      <td>2</td>\n",
              "      <td>3.795489</td>\n",
              "    </tr>\n",
              "    <tr>\n",
              "      <th>2</th>\n",
              "      <td>17.2</td>\n",
              "      <td>45.9</td>\n",
              "      <td>69.3</td>\n",
              "      <td>9.3</td>\n",
              "      <td>0.038800</td>\n",
              "      <td>3</td>\n",
              "      <td>2.844909</td>\n",
              "    </tr>\n",
              "    <tr>\n",
              "      <th>3</th>\n",
              "      <td>151.5</td>\n",
              "      <td>41.3</td>\n",
              "      <td>58.5</td>\n",
              "      <td>18.5</td>\n",
              "      <td>0.341755</td>\n",
              "      <td>1</td>\n",
              "      <td>5.020586</td>\n",
              "    </tr>\n",
              "  </tbody>\n",
              "</table>\n",
              "</div>"
            ],
            "text/plain": [
              "      TV  Radio  Newspaper  Sales   Part_Tv  cond     logTV\n",
              "0  230.1   37.8       69.2   22.1  0.519062     1  5.438514\n",
              "1   44.5   39.3       45.1   10.4  0.100383     2  3.795489\n",
              "2   17.2   45.9       69.3    9.3  0.038800     3  2.844909\n",
              "3  151.5   41.3       58.5   18.5  0.341755     1  5.020586"
            ]
          },
          "execution_count": 50,
          "metadata": {},
          "output_type": "execute_result"
        }
      ],
      "source": [
        "import numpy as np\n",
        "dp['logTV']=np.log(dp.TV)\n",
        "dp"
      ]
    },
    {
      "cell_type": "code",
      "execution_count": null,
      "id": "9ccaff44",
      "metadata": {
        "id": "9ccaff44"
      },
      "outputs": [],
      "source": [
        "leftp = pd.DataFrame({'A': ['A0', 'A1', 'A2', 'A3'],\n",
        "'B': ['B0', 'B1', 'B2', 'B3'],\n",
        "'C': ['C0', 'C1', 'C2', 'C3'],\n",
        "'D': ['D0', 'D1', 'D2', 'D3']},\n",
        "index=[0, 1, 2, 3])\n",
        "rightp = pd.DataFrame({'A': ['A0', 'A1', 'A6', 'A7'],\n",
        "'F': ['B4', 'B5', 'B6', 'B7'],\n",
        "'G': ['C4', 'C5', 'C6', 'C7'],\n",
        "'H': ['D4', 'D5', 'D6', 'D7']},\n",
        "index=[4, 5, 6, 7])"
      ]
    }
  ],
  "metadata": {
    "kernelspec": {
      "display_name": "Python 3 (ipykernel)",
      "language": "python",
      "name": "python3"
    },
    "language_info": {
      "codemirror_mode": {
        "name": "ipython",
        "version": 3
      },
      "file_extension": ".py",
      "mimetype": "text/x-python",
      "name": "python",
      "nbconvert_exporter": "python",
      "pygments_lexer": "ipython3",
      "version": "3.9.7"
    },
    "colab": {
      "name": "organizing_manipulating_data.ipynb",
      "provenance": [],
      "include_colab_link": true
    }
  },
  "nbformat": 4,
  "nbformat_minor": 5
}